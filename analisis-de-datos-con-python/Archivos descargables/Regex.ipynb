{
 "cells": [
  {
   "cell_type": "code",
   "execution_count": 1,
   "id": "e34de05a",
   "metadata": {},
   "outputs": [],
   "source": [
    "import re\n",
    "import pandas as pd"
   ]
  },
  {
   "cell_type": "markdown",
   "id": "be22f2ce",
   "metadata": {},
   "source": [
    "## Introducción a expresiones regulares\n",
    "\n",
    " Son patrones utilizados para encontrar una determinada combinación de caracteres dentro de una cadena de texto."
   ]
  },
  {
   "cell_type": "code",
   "execution_count": 2,
   "id": "05591e23",
   "metadata": {},
   "outputs": [],
   "source": [
    "Texto='''Juan Diego Gomez 3213213 rojo azul verde juan@mail.com\n",
    "Juan Camilo Perez 4341234 azul azul verde camilo@mail.com\n",
    "Ana Maria Avila 233123123 verde verde verde ana@mail.com'''"
   ]
  },
  {
   "cell_type": "code",
   "execution_count": 3,
   "id": "30fd6d6c",
   "metadata": {},
   "outputs": [
    {
     "name": "stdout",
     "output_type": "stream",
     "text": [
      "Palabra encontrada\n"
     ]
    }
   ],
   "source": [
    "if re.search('azul',Texto):\n",
    "    print('Palabra encontrada')\n",
    "else:\n",
    "    print('palabra no encontrada')"
   ]
  },
  {
   "cell_type": "code",
   "execution_count": 4,
   "id": "b133e627",
   "metadata": {},
   "outputs": [
    {
     "data": {
      "text/plain": [
       "['azul', 'azul', 'azul']"
      ]
     },
     "execution_count": 4,
     "metadata": {},
     "output_type": "execute_result"
    }
   ],
   "source": [
    "re.findall('azul',Texto)"
   ]
  },
  {
   "cell_type": "code",
   "execution_count": 5,
   "id": "332c5bfd",
   "metadata": {},
   "outputs": [
    {
     "data": {
      "text/plain": [
       "<re.Match object; span=(30, 34), match='azul'>"
      ]
     },
     "execution_count": 5,
     "metadata": {},
     "output_type": "execute_result"
    }
   ],
   "source": [
    "re.search('azul',Texto)"
   ]
  },
  {
   "cell_type": "code",
   "execution_count": 6,
   "id": "154c6297",
   "metadata": {},
   "outputs": [
    {
     "data": {
      "text/plain": [
       "['Juan', 'juan', 'Juan']"
      ]
     },
     "execution_count": 6,
     "metadata": {},
     "output_type": "execute_result"
    }
   ],
   "source": [
    "re.findall('juan',Texto,re.I)"
   ]
  },
  {
   "cell_type": "markdown",
   "id": "62eda46d",
   "metadata": {},
   "source": [
    "### Límites\n",
    "\n",
    "\\b      - Limite de Palabra\n",
    "\n",
    "\\B      - No es un Limite de Palabra\n",
    "\n",
    "^       - Inicio de una cadena de texto\n",
    "\n",
    "$       - Final de una cadena de texto"
   ]
  },
  {
   "cell_type": "code",
   "execution_count": 7,
   "id": "f8aabbe5",
   "metadata": {},
   "outputs": [
    {
     "data": {
      "text/plain": [
       "['Juan', 'Juan']"
      ]
     },
     "execution_count": 7,
     "metadata": {},
     "output_type": "execute_result"
    }
   ],
   "source": [
    "re.findall('^Juan',Texto,re.M)"
   ]
  },
  {
   "cell_type": "code",
   "execution_count": 8,
   "id": "2e3f6345",
   "metadata": {},
   "outputs": [
    {
     "data": {
      "text/plain": [
       "['com', 'com', 'com']"
      ]
     },
     "execution_count": 8,
     "metadata": {},
     "output_type": "execute_result"
    }
   ],
   "source": [
    "re.findall('com$',Texto,re.M)"
   ]
  },
  {
   "cell_type": "code",
   "execution_count": 9,
   "id": "8d1a7efa",
   "metadata": {},
   "outputs": [
    {
     "data": {
      "text/plain": [
       "['3', '3', '3', '3', '3', '3', '3']"
      ]
     },
     "execution_count": 9,
     "metadata": {},
     "output_type": "execute_result"
    }
   ],
   "source": [
    "re.findall(r'3\\B',Texto)"
   ]
  },
  {
   "cell_type": "markdown",
   "id": "ac45de88",
   "metadata": {},
   "source": [
    "## Coincidencias Basicas\n",
    "\n",
    ".       - Cualquier Caracter, excepto nueva linea\n",
    "\n",
    "\\d      - Cualquier Digitos (0-9)\n",
    "\n",
    "\\D      - No es un Digito (0-9)\n",
    "\n",
    "\\w      - Caracter de Palabra (a-z, A-Z, 0-9, _)\n",
    "\n",
    "\\W      - No es un Caracter de Palabra.\n",
    "\n",
    "\\s      - Espacios de cualquier tipo. (espacio, tab, nueva linea)\n",
    "\n",
    "\\S      - No es un Espacio, Tab o nueva linea.\n",
    "\n",
    "## Cuantificadores:\n",
    "\n",
    "\\*       - 0 o Más\n",
    "\n",
    "\\+       - 1 o Más\n",
    "\n",
    "?       - 0 o Uno\n",
    "\n",
    "{2}     - Numero Exacto\n",
    "\n",
    "{1,4}   - Rango de Numeros (Minimo, Maximo)"
   ]
  },
  {
   "cell_type": "code",
   "execution_count": 10,
   "id": "06d24cb7",
   "metadata": {},
   "outputs": [],
   "source": [
    "Texto2='''Beto M1235 M\n",
    "Ana U1246 S\n",
    "Jaime M432 S\n",
    "Maria U324 M'''"
   ]
  },
  {
   "cell_type": "code",
   "execution_count": 11,
   "id": "f1808c14",
   "metadata": {},
   "outputs": [
    {
     "data": {
      "text/plain": [
       "['Beto',\n",
       " 'M1235',\n",
       " 'M',\n",
       " 'Ana',\n",
       " 'U1246',\n",
       " 'S',\n",
       " 'Jaime',\n",
       " 'M432',\n",
       " 'S',\n",
       " 'Maria',\n",
       " 'U324',\n",
       " 'M']"
      ]
     },
     "execution_count": 11,
     "metadata": {},
     "output_type": "execute_result"
    }
   ],
   "source": [
    "re.findall(r'\\w+',Texto2)"
   ]
  },
  {
   "cell_type": "code",
   "execution_count": 12,
   "id": "d150a89b",
   "metadata": {},
   "outputs": [
    {
     "data": {
      "text/plain": [
       "['M1235']"
      ]
     },
     "execution_count": 12,
     "metadata": {},
     "output_type": "execute_result"
    }
   ],
   "source": [
    "re.findall(r'M\\d{4}',Texto2)"
   ]
  },
  {
   "cell_type": "code",
   "execution_count": 13,
   "id": "74d6d46e",
   "metadata": {},
   "outputs": [
    {
     "data": {
      "text/plain": [
       "['juan@mail.com', 'camilo@mail.com', 'ana@mail.com']"
      ]
     },
     "execution_count": 13,
     "metadata": {},
     "output_type": "execute_result"
    }
   ],
   "source": [
    "re.findall(r'\\w+@mail.com',Texto)"
   ]
  },
  {
   "cell_type": "markdown",
   "id": "d5952e76",
   "metadata": {},
   "source": [
    "## Conjuntos de Caracteres\n",
    "\n",
    "[]      - Caracteres dentro de los brackets\n",
    "\n",
    "[^ ]    - Caracteres que NO ESTAN dentro de los brackets\n",
    "\n",
    "## Grupos\n",
    "\n",
    "( )     - Grupo\n",
    "\n",
    "|       - Uno u otro"
   ]
  },
  {
   "cell_type": "code",
   "execution_count": 14,
   "id": "01d9bdf1",
   "metadata": {},
   "outputs": [],
   "source": [
    "Texto3='''ruta12: http://pagina.com\n",
    "ruta15: https://ejemplo.com\n",
    "ruta22: http://www.pagina.com\n",
    "ruta38: https://www.ejemplo.com'''"
   ]
  },
  {
   "cell_type": "code",
   "execution_count": 15,
   "id": "9f8d9fff",
   "metadata": {},
   "outputs": [
    {
     "data": {
      "text/plain": [
       "['ruta22', 'ruta38']"
      ]
     },
     "execution_count": 15,
     "metadata": {},
     "output_type": "execute_result"
    }
   ],
   "source": [
    "re.findall(r'ruta[2-9]+',Texto3)"
   ]
  },
  {
   "cell_type": "code",
   "execution_count": 16,
   "id": "354fb2d8",
   "metadata": {},
   "outputs": [
    {
     "name": "stdout",
     "output_type": "stream",
     "text": [
      "['http://pagina.com', 'https://ejemplo.com', 'http://www.pagina.com', 'https://www.ejemplo.com']\n"
     ]
    }
   ],
   "source": [
    "paginas=re.findall(r'(https?://)(w{3}.?)?(\\w+.com)',Texto3)\n",
    "paginas=[''.join(pagina) for pagina in paginas]\n",
    "print(paginas)"
   ]
  },
  {
   "cell_type": "markdown",
   "id": "a044957a",
   "metadata": {},
   "source": [
    "## Importando un archivo de texto"
   ]
  },
  {
   "cell_type": "code",
   "execution_count": 17,
   "id": "ab4dc162",
   "metadata": {},
   "outputs": [],
   "source": [
    "doc=open('regex.txt','r')\n",
    "texto=doc.read()\n",
    "doc.close()"
   ]
  },
  {
   "cell_type": "code",
   "execution_count": 18,
   "id": "c3fafe1e",
   "metadata": {},
   "outputs": [
    {
     "name": "stdout",
     "output_type": "stream",
     "text": [
      "\"Muchos años después, frente al pelotón de fusilamiento, el coronel aureliano Buendía había de recordar aquella tarde remota en que su padre lo llevó a conocer el hielo. Macondo era entonces una aldea de veinte casas de barro y cañabrava construida a la orilla de un río de aguas diáfanas que se precipitaban por un lecho de piedras pulidas, blancas y enormes como huevos prehistóricos. El mundo era tan reciente, que muchas cosas carecían de nombre, y para mencionarlas había que señalarlas con el dedo.\n",
      "(...)\n",
      "José Arcadio Buendía, que era el hombre más emprendedor que se vería jamás en la aldea, había dispuesto de tal modo la posición de las casas, que desde todas podía llegarse al río y abastecerse de agua con igual esfuerzo, y trazó las calles con tan buen sentido que ninguna casa recibía más sol que otra a la hora del calor. En pocos años, Macondo fue una aldea más ordenada y laboriosa que cualquiera de las conocidas hasta entonces por sus trescientos habitantes. Era en verdad una aldea feliz, donde nadie era mayor de treinta años y donde nadie había muerto.\n",
      "(...)\n",
      "Vio una mujer vestida de oro en el cogote de un elefante. Vio un dromedario triste. Vio un oso vestido de holandesa que marcaba el compás de la música con un cucharón y una cacerola. Vio a los payasos haciendo maromas en la cola del desfile, y le vio otra vez la cara a su soledad miserable cuando todo acabó de pasar, y no quedó sino el luminoso espacio en la calle, y el aire lleno de hormigas voladoras, y unos cuantos curiosos asomados al precipicio de la incertidumbre. Entonces fue el castaño, pensando en el circo, y mientras orinaba trató de seguir pensando en el circo, pero ya no encontró el recuerdo. Metió la cabeza entre los hombros, como un pollito, y se quedó inmóvil con la frente apoyada en el tronco del castaño.\n",
      "(...)\n",
      "En aquél Macondo olvidado hasta por los pájaros, dónde el polvo y el calor se habían hecho tan tenaces que costaba trabajo respirar, recluidos por la soledad y el amor y por la soledad del amor en una casa dónde era casi imposible dormir por el estruendo de las hormigas coloradas, Aureliano y Amaranta Ursula eran los únicos seres felices, y los más felices sobre la tierra.\"\n"
     ]
    }
   ],
   "source": [
    "print(texto)"
   ]
  },
  {
   "cell_type": "code",
   "execution_count": 19,
   "id": "98bdf0e6",
   "metadata": {},
   "outputs": [
    {
     "data": {
      "text/plain": [
       "['aureliano', 'Aureliano']"
      ]
     },
     "execution_count": 19,
     "metadata": {},
     "output_type": "execute_result"
    }
   ],
   "source": [
    "re.findall(r'Aureliano',texto,re.I)"
   ]
  },
  {
   "cell_type": "markdown",
   "id": "2ffad68f",
   "metadata": {},
   "source": [
    "## Regex y Pandas, Filtrado de datos"
   ]
  },
  {
   "cell_type": "code",
   "execution_count": 20,
   "id": "ce114da0",
   "metadata": {},
   "outputs": [
    {
     "data": {
      "text/html": [
       "<div>\n",
       "<style scoped>\n",
       "    .dataframe tbody tr th:only-of-type {\n",
       "        vertical-align: middle;\n",
       "    }\n",
       "\n",
       "    .dataframe tbody tr th {\n",
       "        vertical-align: top;\n",
       "    }\n",
       "\n",
       "    .dataframe thead th {\n",
       "        text-align: right;\n",
       "    }\n",
       "</style>\n",
       "<table border=\"1\" class=\"dataframe\">\n",
       "  <thead>\n",
       "    <tr style=\"text-align: right;\">\n",
       "      <th></th>\n",
       "      <th>nombre</th>\n",
       "      <th>Abb</th>\n",
       "      <th>Cdd</th>\n",
       "    </tr>\n",
       "    <tr>\n",
       "      <th>codigo</th>\n",
       "      <th></th>\n",
       "      <th></th>\n",
       "      <th></th>\n",
       "    </tr>\n",
       "  </thead>\n",
       "  <tbody>\n",
       "    <tr>\n",
       "      <th>co_123</th>\n",
       "      <td>Pepito Gonzales</td>\n",
       "      <td>11</td>\n",
       "      <td>12</td>\n",
       "    </tr>\n",
       "    <tr>\n",
       "      <th>pe_312</th>\n",
       "      <td>Maria Vasquez</td>\n",
       "      <td>34</td>\n",
       "      <td>54</td>\n",
       "    </tr>\n",
       "    <tr>\n",
       "      <th>mx_546</th>\n",
       "      <td>Rosa Gomez</td>\n",
       "      <td>12</td>\n",
       "      <td>67</td>\n",
       "    </tr>\n",
       "    <tr>\n",
       "      <th>mx_765</th>\n",
       "      <td>Pepito Chavez</td>\n",
       "      <td>43</td>\n",
       "      <td>32</td>\n",
       "    </tr>\n",
       "  </tbody>\n",
       "</table>\n",
       "</div>"
      ],
      "text/plain": [
       "                 nombre  Abb  Cdd\n",
       "codigo                           \n",
       "co_123  Pepito Gonzales   11   12\n",
       "pe_312    Maria Vasquez   34   54\n",
       "mx_546       Rosa Gomez   12   67\n",
       "mx_765    Pepito Chavez   43   32"
      ]
     },
     "metadata": {},
     "output_type": "display_data"
    }
   ],
   "source": [
    "dfreg=pd.DataFrame({\n",
    "    'nombre':['Pepito Gonzales','Maria Vasquez','Rosa Gomez','Pepito Chavez'],\n",
    "    'codigo':['co_123','pe_312','mx_546','mx_765'],\n",
    "    'Abb':[11,34,12,43],\n",
    "    'Cdd':[12,54,67,32]\n",
    "})\n",
    "dfreg=dfreg.set_index('codigo')\n",
    "display(dfreg)"
   ]
  },
  {
   "cell_type": "code",
   "execution_count": 21,
   "id": "b8f70201",
   "metadata": {},
   "outputs": [
    {
     "data": {
      "text/html": [
       "<div>\n",
       "<style scoped>\n",
       "    .dataframe tbody tr th:only-of-type {\n",
       "        vertical-align: middle;\n",
       "    }\n",
       "\n",
       "    .dataframe tbody tr th {\n",
       "        vertical-align: top;\n",
       "    }\n",
       "\n",
       "    .dataframe thead th {\n",
       "        text-align: right;\n",
       "    }\n",
       "</style>\n",
       "<table border=\"1\" class=\"dataframe\">\n",
       "  <thead>\n",
       "    <tr style=\"text-align: right;\">\n",
       "      <th></th>\n",
       "      <th>Cdd</th>\n",
       "    </tr>\n",
       "    <tr>\n",
       "      <th>codigo</th>\n",
       "      <th></th>\n",
       "    </tr>\n",
       "  </thead>\n",
       "  <tbody>\n",
       "    <tr>\n",
       "      <th>co_123</th>\n",
       "      <td>12</td>\n",
       "    </tr>\n",
       "    <tr>\n",
       "      <th>pe_312</th>\n",
       "      <td>54</td>\n",
       "    </tr>\n",
       "    <tr>\n",
       "      <th>mx_546</th>\n",
       "      <td>67</td>\n",
       "    </tr>\n",
       "    <tr>\n",
       "      <th>mx_765</th>\n",
       "      <td>32</td>\n",
       "    </tr>\n",
       "  </tbody>\n",
       "</table>\n",
       "</div>"
      ],
      "text/plain": [
       "        Cdd\n",
       "codigo     \n",
       "co_123   12\n",
       "pe_312   54\n",
       "mx_546   67\n",
       "mx_765   32"
      ]
     },
     "execution_count": 21,
     "metadata": {},
     "output_type": "execute_result"
    }
   ],
   "source": [
    "dfreg.filter(items=['Ab','Cdd'])"
   ]
  },
  {
   "cell_type": "code",
   "execution_count": 22,
   "id": "e73b55e8",
   "metadata": {},
   "outputs": [
    {
     "data": {
      "text/html": [
       "<div>\n",
       "<style scoped>\n",
       "    .dataframe tbody tr th:only-of-type {\n",
       "        vertical-align: middle;\n",
       "    }\n",
       "\n",
       "    .dataframe tbody tr th {\n",
       "        vertical-align: top;\n",
       "    }\n",
       "\n",
       "    .dataframe thead th {\n",
       "        text-align: right;\n",
       "    }\n",
       "</style>\n",
       "<table border=\"1\" class=\"dataframe\">\n",
       "  <thead>\n",
       "    <tr style=\"text-align: right;\">\n",
       "      <th></th>\n",
       "      <th>nombre</th>\n",
       "      <th>Abb</th>\n",
       "      <th>Cdd</th>\n",
       "    </tr>\n",
       "    <tr>\n",
       "      <th>codigo</th>\n",
       "      <th></th>\n",
       "      <th></th>\n",
       "      <th></th>\n",
       "    </tr>\n",
       "  </thead>\n",
       "  <tbody>\n",
       "    <tr>\n",
       "      <th>co_123</th>\n",
       "      <td>Pepito Gonzales</td>\n",
       "      <td>11</td>\n",
       "      <td>12</td>\n",
       "    </tr>\n",
       "    <tr>\n",
       "      <th>pe_312</th>\n",
       "      <td>Maria Vasquez</td>\n",
       "      <td>34</td>\n",
       "      <td>54</td>\n",
       "    </tr>\n",
       "  </tbody>\n",
       "</table>\n",
       "</div>"
      ],
      "text/plain": [
       "                 nombre  Abb  Cdd\n",
       "codigo                           \n",
       "co_123  Pepito Gonzales   11   12\n",
       "pe_312    Maria Vasquez   34   54"
      ]
     },
     "execution_count": 22,
     "metadata": {},
     "output_type": "execute_result"
    }
   ],
   "source": [
    "dfreg.filter(like='12',axis=0)"
   ]
  },
  {
   "cell_type": "code",
   "execution_count": 23,
   "id": "03bdefd0",
   "metadata": {},
   "outputs": [
    {
     "data": {
      "text/html": [
       "<div>\n",
       "<style scoped>\n",
       "    .dataframe tbody tr th:only-of-type {\n",
       "        vertical-align: middle;\n",
       "    }\n",
       "\n",
       "    .dataframe tbody tr th {\n",
       "        vertical-align: top;\n",
       "    }\n",
       "\n",
       "    .dataframe thead th {\n",
       "        text-align: right;\n",
       "    }\n",
       "</style>\n",
       "<table border=\"1\" class=\"dataframe\">\n",
       "  <thead>\n",
       "    <tr style=\"text-align: right;\">\n",
       "      <th></th>\n",
       "      <th>nombre</th>\n",
       "      <th>Abb</th>\n",
       "      <th>Cdd</th>\n",
       "    </tr>\n",
       "    <tr>\n",
       "      <th>codigo</th>\n",
       "      <th></th>\n",
       "      <th></th>\n",
       "      <th></th>\n",
       "    </tr>\n",
       "  </thead>\n",
       "  <tbody>\n",
       "    <tr>\n",
       "      <th>mx_546</th>\n",
       "      <td>Rosa Gomez</td>\n",
       "      <td>12</td>\n",
       "      <td>67</td>\n",
       "    </tr>\n",
       "    <tr>\n",
       "      <th>mx_765</th>\n",
       "      <td>Pepito Chavez</td>\n",
       "      <td>43</td>\n",
       "      <td>32</td>\n",
       "    </tr>\n",
       "  </tbody>\n",
       "</table>\n",
       "</div>"
      ],
      "text/plain": [
       "               nombre  Abb  Cdd\n",
       "codigo                         \n",
       "mx_546     Rosa Gomez   12   67\n",
       "mx_765  Pepito Chavez   43   32"
      ]
     },
     "execution_count": 23,
     "metadata": {},
     "output_type": "execute_result"
    }
   ],
   "source": [
    "dfreg.filter(regex='\\w{2}_[4-9]{3}',axis=0)"
   ]
  },
  {
   "cell_type": "markdown",
   "id": "d4aeecba",
   "metadata": {},
   "source": [
    "## Ejemplo: Analizando un archivo de texto\n",
    "\n",
    "En el archivo configuraciones.txt se proporcionan un conjunto de datos en texto plano, donde se muestra la información de una determinada configuración de servidores. Extraer la información de los ip vrf, en una tabla (DataFrame)"
   ]
  },
  {
   "cell_type": "code",
   "execution_count": 24,
   "id": "60b7fbf7",
   "metadata": {},
   "outputs": [
    {
     "name": "stdout",
     "output_type": "stream",
     "text": [
      "show running^M\n",
      "Building configuration...^M\n",
      "^M\n",
      "Current configuration : 166931 bytes^M\n",
      "!^M\n",
      "! Last configuration change at 17:30:29 Co Thu Jul 19 2012 by esalgado^M\n",
      "! NVRAM config last updated at 23:41:23 Co Sun Jul 22 2012^M\n",
      "!^M\n",
      "version 12.2^M\n",
      "no service pad^M\n",
      "service timestamps debug datetime msec localtime^M\n",
      "service timestamps log datetime msec localtime^M\n",
      "service password-encryption^M\n",
      "service compress-config^M\n",
      "!^M\n",
      "hostname villavicencio^M\n",
      "\n",
      "ip vrf AvalBogAVV^M\n",
      " rd 100:16003^M\n",
      " export map ARCOM-AVAL^M\n",
      " route-target export 100:16003^M\n",
      " route-target import 100:16003^M\n",
      " route-target import 14080:2000^M\n",
      " route-target import 14080:27300^M\n",
      "!^M\n",
      "ip vrf AvalBogBBOCis^M\n",
      " rd 100:16001^M\n",
      " export map ARCOM-AVAL^M\n",
      " route-target export 100:16001^M\n",
      " route-target export 100:830^M\n",
      " route-target import 100:16001^M\n",
      " route-target import 100:830^M\n",
      " route-target import 14080:27300^M\n",
      "!^M\n",
      "ip vrf AvalBogBOC^M\n",
      " rd 100:16005^M\n",
      " export map ARCOM-BOC^M\n",
      " route-target export 100:16005^M\n",
      " route-target import 100:16005^M\n",
      " route-target import 14080:300400^M\n",
      "!^M\n",
      "ip vrf AvalBogBPO^M\n",
      " rd 100:16004^M\n",
      " export map ARCOM-AVAL^M\n",
      " route-target export 100:16004^M\n",
      " route-target import 100:16004^M\n",
      " route-target import 14080:27300^M\n",
      "!^M\n"
     ]
    }
   ],
   "source": [
    "doc=open('configuraciones.txt','r')\n",
    "texto=doc.read()\n",
    "doc.close()\n",
    "print(texto)"
   ]
  },
  {
   "cell_type": "code",
   "execution_count": 26,
   "id": "a8bff9e9",
   "metadata": {},
   "outputs": [
    {
     "data": {
      "text/plain": [
       "['ip vrf AvalBogAVV^M',\n",
       " 'ip vrf AvalBogBBOCis^M',\n",
       " 'ip vrf AvalBogBOC^M',\n",
       " 'ip vrf AvalBogBPO^M']"
      ]
     },
     "execution_count": 26,
     "metadata": {},
     "output_type": "execute_result"
    }
   ],
   "source": [
    "vrfs=re.findall(r'(ip\\svrf\\sAval\\w+\\^M)',texto)\n",
    "vrfs"
   ]
  },
  {
   "cell_type": "code",
   "execution_count": 27,
   "id": "afd373d9",
   "metadata": {},
   "outputs": [
    {
     "data": {
      "text/plain": [
       "[('rd', '100:16003'),\n",
       " ('rd', '100:16001'),\n",
       " ('rd', '100:16005'),\n",
       " ('rd', '100:16004')]"
      ]
     },
     "execution_count": 27,
     "metadata": {},
     "output_type": "execute_result"
    }
   ],
   "source": [
    "re.findall(r'(rd)\\s(\\d+:\\d+)',texto)"
   ]
  },
  {
   "cell_type": "code",
   "execution_count": 28,
   "id": "61f4dfcc",
   "metadata": {},
   "outputs": [
    {
     "data": {
      "text/plain": [
       "[('M\\nservice', 'password-encryption'),\n",
       " ('M\\nservice', 'compress-config'),\n",
       " ('export map', 'ARCOM-AVAL'),\n",
       " ('export map', 'ARCOM-AVAL'),\n",
       " ('export map', 'ARCOM-BOC'),\n",
       " ('export map', 'ARCOM-AVAL')]"
      ]
     },
     "execution_count": 28,
     "metadata": {},
     "output_type": "execute_result"
    }
   ],
   "source": [
    "re.findall(r'(\\w+\\s\\w+)\\s(\\w+-\\w+)',texto)"
   ]
  },
  {
   "cell_type": "code",
   "execution_count": 29,
   "id": "c9d54252",
   "metadata": {},
   "outputs": [
    {
     "data": {
      "text/plain": [
       "[('export', '100:16003'),\n",
       " ('export', '100:16001'),\n",
       " ('export', '100:830'),\n",
       " ('export', '100:16005'),\n",
       " ('export', '100:16004')]"
      ]
     },
     "execution_count": 29,
     "metadata": {},
     "output_type": "execute_result"
    }
   ],
   "source": [
    "re.findall(r'(export)\\s(\\d+:\\d+)',texto)"
   ]
  },
  {
   "cell_type": "code",
   "execution_count": 30,
   "id": "a1b0a736",
   "metadata": {},
   "outputs": [
    {
     "data": {
      "text/plain": [
       "[('import', '100:16003'),\n",
       " ('import', '14080:2000'),\n",
       " ('import', '14080:27300'),\n",
       " ('import', '100:16001'),\n",
       " ('import', '100:830'),\n",
       " ('import', '14080:27300'),\n",
       " ('import', '100:16005'),\n",
       " ('import', '14080:300400'),\n",
       " ('import', '100:16004'),\n",
       " ('import', '14080:27300')]"
      ]
     },
     "execution_count": 30,
     "metadata": {},
     "output_type": "execute_result"
    }
   ],
   "source": [
    "re.findall(r'(import)\\s(\\d+:\\d+)',texto)"
   ]
  },
  {
   "cell_type": "code",
   "execution_count": 33,
   "id": "76c48948",
   "metadata": {},
   "outputs": [
    {
     "data": {
      "text/plain": [
       "464"
      ]
     },
     "execution_count": 33,
     "metadata": {},
     "output_type": "execute_result"
    }
   ],
   "source": [
    "re.search(re.escape('ip vrf AvalBogAVV^M'),texto).span()[1]"
   ]
  },
  {
   "cell_type": "code",
   "execution_count": 36,
   "id": "0bbe77bd",
   "metadata": {},
   "outputs": [
    {
     "name": "stdout",
     "output_type": "stream",
     "text": [
      "[464, 667, 895, 1061, 1207]\n"
     ]
    }
   ],
   "source": [
    "posiciones=[re.search(re.escape(vrf),texto).span()[1] for vrf in vrfs]+[len(texto)]\n",
    "print(posiciones)"
   ]
  },
  {
   "cell_type": "code",
   "execution_count": 37,
   "id": "b4c01b6f",
   "metadata": {},
   "outputs": [
    {
     "data": {
      "text/html": [
       "<div>\n",
       "<style scoped>\n",
       "    .dataframe tbody tr th:only-of-type {\n",
       "        vertical-align: middle;\n",
       "    }\n",
       "\n",
       "    .dataframe tbody tr th {\n",
       "        vertical-align: top;\n",
       "    }\n",
       "\n",
       "    .dataframe thead th {\n",
       "        text-align: right;\n",
       "    }\n",
       "</style>\n",
       "<table border=\"1\" class=\"dataframe\">\n",
       "  <thead>\n",
       "    <tr style=\"text-align: right;\">\n",
       "      <th></th>\n",
       "      <th>ipvrf</th>\n",
       "      <th>valor</th>\n",
       "      <th>descripcion</th>\n",
       "    </tr>\n",
       "  </thead>\n",
       "  <tbody>\n",
       "    <tr>\n",
       "      <th>0</th>\n",
       "      <td>AvalBogAVV</td>\n",
       "      <td>100:16003</td>\n",
       "      <td>route-target export</td>\n",
       "    </tr>\n",
       "    <tr>\n",
       "      <th>1</th>\n",
       "      <td>AvalBogAVV</td>\n",
       "      <td>100:16003</td>\n",
       "      <td>route-target import</td>\n",
       "    </tr>\n",
       "    <tr>\n",
       "      <th>2</th>\n",
       "      <td>AvalBogAVV</td>\n",
       "      <td>14080:2000</td>\n",
       "      <td>route-target import</td>\n",
       "    </tr>\n",
       "    <tr>\n",
       "      <th>3</th>\n",
       "      <td>AvalBogAVV</td>\n",
       "      <td>14080:27300</td>\n",
       "      <td>route-target import</td>\n",
       "    </tr>\n",
       "    <tr>\n",
       "      <th>4</th>\n",
       "      <td>AvalBogAVV</td>\n",
       "      <td>100:16003</td>\n",
       "      <td>rd</td>\n",
       "    </tr>\n",
       "    <tr>\n",
       "      <th>5</th>\n",
       "      <td>AvalBogAVV</td>\n",
       "      <td>ARCOM-AVAL</td>\n",
       "      <td>export map</td>\n",
       "    </tr>\n",
       "    <tr>\n",
       "      <th>6</th>\n",
       "      <td>AvalBogBBOCis</td>\n",
       "      <td>100:16001</td>\n",
       "      <td>route-target export</td>\n",
       "    </tr>\n",
       "    <tr>\n",
       "      <th>7</th>\n",
       "      <td>AvalBogBBOCis</td>\n",
       "      <td>100:830</td>\n",
       "      <td>route-target export</td>\n",
       "    </tr>\n",
       "    <tr>\n",
       "      <th>8</th>\n",
       "      <td>AvalBogBBOCis</td>\n",
       "      <td>100:16001</td>\n",
       "      <td>route-target import</td>\n",
       "    </tr>\n",
       "    <tr>\n",
       "      <th>9</th>\n",
       "      <td>AvalBogBBOCis</td>\n",
       "      <td>100:830</td>\n",
       "      <td>route-target import</td>\n",
       "    </tr>\n",
       "    <tr>\n",
       "      <th>10</th>\n",
       "      <td>AvalBogBBOCis</td>\n",
       "      <td>14080:27300</td>\n",
       "      <td>route-target import</td>\n",
       "    </tr>\n",
       "    <tr>\n",
       "      <th>11</th>\n",
       "      <td>AvalBogBBOCis</td>\n",
       "      <td>100:16001</td>\n",
       "      <td>rd</td>\n",
       "    </tr>\n",
       "    <tr>\n",
       "      <th>12</th>\n",
       "      <td>AvalBogBBOCis</td>\n",
       "      <td>ARCOM-AVAL</td>\n",
       "      <td>export map</td>\n",
       "    </tr>\n",
       "    <tr>\n",
       "      <th>13</th>\n",
       "      <td>AvalBogBOC</td>\n",
       "      <td>100:16005</td>\n",
       "      <td>route-target export</td>\n",
       "    </tr>\n",
       "    <tr>\n",
       "      <th>14</th>\n",
       "      <td>AvalBogBOC</td>\n",
       "      <td>100:16005</td>\n",
       "      <td>route-target import</td>\n",
       "    </tr>\n",
       "    <tr>\n",
       "      <th>15</th>\n",
       "      <td>AvalBogBOC</td>\n",
       "      <td>14080:300400</td>\n",
       "      <td>route-target import</td>\n",
       "    </tr>\n",
       "    <tr>\n",
       "      <th>16</th>\n",
       "      <td>AvalBogBOC</td>\n",
       "      <td>100:16005</td>\n",
       "      <td>rd</td>\n",
       "    </tr>\n",
       "    <tr>\n",
       "      <th>17</th>\n",
       "      <td>AvalBogBOC</td>\n",
       "      <td>ARCOM-BOC</td>\n",
       "      <td>export map</td>\n",
       "    </tr>\n",
       "    <tr>\n",
       "      <th>18</th>\n",
       "      <td>AvalBogBPO</td>\n",
       "      <td>100:16004</td>\n",
       "      <td>route-target export</td>\n",
       "    </tr>\n",
       "    <tr>\n",
       "      <th>19</th>\n",
       "      <td>AvalBogBPO</td>\n",
       "      <td>100:16004</td>\n",
       "      <td>route-target import</td>\n",
       "    </tr>\n",
       "    <tr>\n",
       "      <th>20</th>\n",
       "      <td>AvalBogBPO</td>\n",
       "      <td>14080:27300</td>\n",
       "      <td>route-target import</td>\n",
       "    </tr>\n",
       "    <tr>\n",
       "      <th>21</th>\n",
       "      <td>AvalBogBPO</td>\n",
       "      <td>100:16004</td>\n",
       "      <td>rd</td>\n",
       "    </tr>\n",
       "    <tr>\n",
       "      <th>22</th>\n",
       "      <td>AvalBogBPO</td>\n",
       "      <td>ARCOM-AVAL</td>\n",
       "      <td>export map</td>\n",
       "    </tr>\n",
       "  </tbody>\n",
       "</table>\n",
       "</div>"
      ],
      "text/plain": [
       "            ipvrf         valor          descripcion\n",
       "0      AvalBogAVV     100:16003  route-target export\n",
       "1      AvalBogAVV     100:16003  route-target import\n",
       "2      AvalBogAVV    14080:2000  route-target import\n",
       "3      AvalBogAVV   14080:27300  route-target import\n",
       "4      AvalBogAVV     100:16003                   rd\n",
       "5      AvalBogAVV    ARCOM-AVAL           export map\n",
       "6   AvalBogBBOCis     100:16001  route-target export\n",
       "7   AvalBogBBOCis       100:830  route-target export\n",
       "8   AvalBogBBOCis     100:16001  route-target import\n",
       "9   AvalBogBBOCis       100:830  route-target import\n",
       "10  AvalBogBBOCis   14080:27300  route-target import\n",
       "11  AvalBogBBOCis     100:16001                   rd\n",
       "12  AvalBogBBOCis    ARCOM-AVAL           export map\n",
       "13     AvalBogBOC     100:16005  route-target export\n",
       "14     AvalBogBOC     100:16005  route-target import\n",
       "15     AvalBogBOC  14080:300400  route-target import\n",
       "16     AvalBogBOC     100:16005                   rd\n",
       "17     AvalBogBOC     ARCOM-BOC           export map\n",
       "18     AvalBogBPO     100:16004  route-target export\n",
       "19     AvalBogBPO     100:16004  route-target import\n",
       "20     AvalBogBPO   14080:27300  route-target import\n",
       "21     AvalBogBPO     100:16004                   rd\n",
       "22     AvalBogBPO    ARCOM-AVAL           export map"
      ]
     },
     "metadata": {},
     "output_type": "display_data"
    }
   ],
   "source": [
    "patrones=[(r'(export)\\s(\\d+:\\d+)','route-target export'),\n",
    "          (r'(import)\\s(\\d+:\\d+)','route-target import'),\n",
    "          (r'(rd)\\s(\\d+:\\d+)','rd'),\n",
    "          (r'(\\w+\\s\\w+)\\s(\\w+-\\w+)','export map')]\n",
    "\n",
    "resultado=[]\n",
    "for k in range(len(posiciones)-1):\n",
    "    subtexto=texto[posiciones[k]:posiciones[k+1]]\n",
    "    for patron in patrones:\n",
    "        for ip in re.findall(patron[0],subtexto):\n",
    "            resultado.append([vrfs[k][7:-2],ip[1],patron[1]])\n",
    "df=pd.DataFrame(resultado,columns=['ipvrf','valor','descripcion'])\n",
    "display(df)"
   ]
  },
  {
   "cell_type": "code",
   "execution_count": 38,
   "id": "ed43aed3",
   "metadata": {},
   "outputs": [
    {
     "data": {
      "text/html": [
       "<div>\n",
       "<style scoped>\n",
       "    .dataframe tbody tr th:only-of-type {\n",
       "        vertical-align: middle;\n",
       "    }\n",
       "\n",
       "    .dataframe tbody tr th {\n",
       "        vertical-align: top;\n",
       "    }\n",
       "\n",
       "    .dataframe thead th {\n",
       "        text-align: right;\n",
       "    }\n",
       "</style>\n",
       "<table border=\"1\" class=\"dataframe\">\n",
       "  <thead>\n",
       "    <tr style=\"text-align: right;\">\n",
       "      <th></th>\n",
       "      <th>ipvrf</th>\n",
       "      <th>valor</th>\n",
       "      <th>descripcion</th>\n",
       "    </tr>\n",
       "  </thead>\n",
       "  <tbody>\n",
       "    <tr>\n",
       "      <th>1</th>\n",
       "      <td>AvalBogAVV</td>\n",
       "      <td>100:16003</td>\n",
       "      <td>route-target import</td>\n",
       "    </tr>\n",
       "    <tr>\n",
       "      <th>2</th>\n",
       "      <td>AvalBogAVV</td>\n",
       "      <td>14080:2000</td>\n",
       "      <td>route-target import</td>\n",
       "    </tr>\n",
       "    <tr>\n",
       "      <th>3</th>\n",
       "      <td>AvalBogAVV</td>\n",
       "      <td>14080:27300</td>\n",
       "      <td>route-target import</td>\n",
       "    </tr>\n",
       "  </tbody>\n",
       "</table>\n",
       "</div>"
      ],
      "text/plain": [
       "        ipvrf        valor          descripcion\n",
       "1  AvalBogAVV    100:16003  route-target import\n",
       "2  AvalBogAVV   14080:2000  route-target import\n",
       "3  AvalBogAVV  14080:27300  route-target import"
      ]
     },
     "metadata": {},
     "output_type": "display_data"
    }
   ],
   "source": [
    "display(df[(df['ipvrf']=='AvalBogAVV') & (df['descripcion']=='route-target import')])"
   ]
  },
  {
   "cell_type": "code",
   "execution_count": null,
   "id": "fec22197",
   "metadata": {},
   "outputs": [],
   "source": []
  }
 ],
 "metadata": {
  "kernelspec": {
   "display_name": "Python 3 (ipykernel)",
   "language": "python",
   "name": "python3"
  },
  "language_info": {
   "codemirror_mode": {
    "name": "ipython",
    "version": 3
   },
   "file_extension": ".py",
   "mimetype": "text/x-python",
   "name": "python",
   "nbconvert_exporter": "python",
   "pygments_lexer": "ipython3",
   "version": "3.10.5"
  }
 },
 "nbformat": 4,
 "nbformat_minor": 5
}
