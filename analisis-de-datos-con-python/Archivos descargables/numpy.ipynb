{
 "cells": [
  {
   "cell_type": "markdown",
   "id": "8e288941",
   "metadata": {},
   "source": [
    "## La Librería Numpy\n",
    "\n",
    "Lo primero es importar la librería numpy"
   ]
  },
  {
   "cell_type": "code",
   "execution_count": 1,
   "id": "c3e2efa1",
   "metadata": {},
   "outputs": [],
   "source": [
    "import numpy as np"
   ]
  },
  {
   "cell_type": "markdown",
   "id": "2b243481",
   "metadata": {},
   "source": [
    "## Creando Arrays"
   ]
  },
  {
   "cell_type": "code",
   "execution_count": 2,
   "id": "f85d96bf",
   "metadata": {},
   "outputs": [
    {
     "name": "stdout",
     "output_type": "stream",
     "text": [
      "[[4.64127994e-310 0.00000000e+000]\n",
      " [4.64237841e-310 4.64237807e-310]]\n",
      "----------------------------------\n",
      "[[0. 0.]\n",
      " [0. 0.]]\n",
      "----------------------------------\n",
      "[[1. 1.]\n",
      " [1. 1.]]\n",
      "[[1. 0. 0.]\n",
      " [0. 1. 0.]\n",
      " [0. 0. 1.]]\n",
      "----------------------------------\n",
      "[[0.33942091 0.78089404]\n",
      " [0.65801633 0.0274594 ]\n",
      " [0.11000031 0.26021081]]\n",
      "----------------------------------\n",
      "[ 1.  2.  3.  4.  5.  6.  7.  8.  9. 10.]\n",
      "----------------------------------\n",
      "[1.  1.5 2.  2.5 3.  3.5 4.  4.5 5.  5.5 6.  6.5 7.  7.5 8.  8.5 9.  9.5]\n"
     ]
    }
   ],
   "source": [
    "## ARRAY VACIO\n",
    "A=np.empty([2,2])\n",
    "print(A)\n",
    "print('----------------------------------')\n",
    "## ARRAY DE ZEROS\n",
    "A=np.zeros([2,2])\n",
    "print(A)\n",
    "print('----------------------------------')\n",
    "## ARRAY DE UNOS\n",
    "A=np.ones([2,2])\n",
    "print(A)\n",
    "## ARRAY IDENTIDAD\n",
    "A=np.identity(3)\n",
    "print(A)\n",
    "print('----------------------------------')\n",
    "## ARRAY ALEATORIO\n",
    "A=np.random.random([3,2])\n",
    "print(A)\n",
    "print('----------------------------------')\n",
    "## ARRAY DE USANDO LINSPACE (ELIGIENDO EL NÚMERO DE VALORES)\n",
    "A=np.linspace(1,10,10)\n",
    "print(A)\n",
    "print('----------------------------------')\n",
    "## ARRAY USANDO ARANGE (SALTOS)\n",
    "A=np.arange(1,10,0.5)\n",
    "print(A)"
   ]
  },
  {
   "cell_type": "markdown",
   "id": "024df4d9",
   "metadata": {},
   "source": [
    "## Características de un Array"
   ]
  },
  {
   "cell_type": "code",
   "execution_count": 3,
   "id": "673cee87",
   "metadata": {},
   "outputs": [
    {
     "name": "stdout",
     "output_type": "stream",
     "text": [
      "1\n",
      "(18,)\n",
      "18\n",
      "float64\n"
     ]
    }
   ],
   "source": [
    "## dimensiones\n",
    "print(A.ndim)\n",
    "## shape, numero de filas, columnas ...\n",
    "print(A.shape)\n",
    "## numero casillas\n",
    "print(A.size)\n",
    "## tipo de dato\n",
    "print(A.dtype)"
   ]
  },
  {
   "cell_type": "markdown",
   "id": "539f88bc",
   "metadata": {},
   "source": [
    "## Accediendo y modificando los elementos de un Array\n",
    "\n",
    "<img src=\"https://iq.opengenus.org/content/images/2020/04/index.png\"></img>"
   ]
  },
  {
   "cell_type": "code",
   "execution_count": 4,
   "id": "fd074258",
   "metadata": {},
   "outputs": [
    {
     "name": "stdout",
     "output_type": "stream",
     "text": [
      "[[1 2 3]\n",
      " [4 5 6]\n",
      " [7 8 9]]\n"
     ]
    }
   ],
   "source": [
    "A=np.array([[1,2,3],[4,5,6],[7,8,9]])\n",
    "print(A)"
   ]
  },
  {
   "cell_type": "code",
   "execution_count": 5,
   "id": "1eaa08d9",
   "metadata": {},
   "outputs": [
    {
     "name": "stdout",
     "output_type": "stream",
     "text": [
      "[[ 1  2  3]\n",
      " [ 4  5  6]\n",
      " [24  8  9]]\n"
     ]
    }
   ],
   "source": [
    "A[2,0]=24\n",
    "print(A)"
   ]
  },
  {
   "cell_type": "code",
   "execution_count": 6,
   "id": "a3f8b69a",
   "metadata": {},
   "outputs": [
    {
     "data": {
      "text/plain": [
       "array([[2, 3],\n",
       "       [5, 6]])"
      ]
     },
     "execution_count": 6,
     "metadata": {},
     "output_type": "execute_result"
    }
   ],
   "source": [
    "A[:2,1:3]"
   ]
  },
  {
   "cell_type": "markdown",
   "id": "dc4dd0f0",
   "metadata": {},
   "source": [
    "## Filtrando Elementos de un Array\n",
    "\n",
    "Recordar que se pueden combinar condiciones, & significa \"and\" o \"intersección\" y | signidica \"or\" o \"unión\""
   ]
  },
  {
   "cell_type": "code",
   "execution_count": 7,
   "id": "8356f8a6",
   "metadata": {},
   "outputs": [
    {
     "name": "stdout",
     "output_type": "stream",
     "text": [
      "[[ 1  7  3  4]\n",
      " [ 2 12  4  1]\n",
      " [ 2  9  7  8]]\n"
     ]
    },
    {
     "data": {
      "text/plain": [
       "array([ 3,  4,  2, 12,  4,  2,  9,  8])"
      ]
     },
     "execution_count": 7,
     "metadata": {},
     "output_type": "execute_result"
    }
   ],
   "source": [
    "A=np.array([[1,7,3,4],[2,12,4,1],[2,9,7,8]])\n",
    "print(A)\n",
    "A[(A%2==0) | (A%3==0)]"
   ]
  },
  {
   "cell_type": "markdown",
   "id": "49e76001",
   "metadata": {},
   "source": [
    "## Ejemplo:\n",
    "\n",
    "1. Construir un array de 3 filas, donde:\n",
    "\n",
    "    a. La primera fila este formada por 1,2,3,4.\n",
    "\n",
    "    b. Los elementos de la segunda fila son el triple de los de la primera.\n",
    "\n",
    "    c. Los elementos de la tercera fila son el cuadrado de de los de la segunda fila.\n",
    "\n",
    "\n",
    "2. ¿Cuántos elementos del array son impares?"
   ]
  },
  {
   "cell_type": "code",
   "execution_count": 8,
   "id": "266d216e",
   "metadata": {},
   "outputs": [
    {
     "name": "stdout",
     "output_type": "stream",
     "text": [
      "[[  1   2   3   4]\n",
      " [  3   6   9  12]\n",
      " [  9  36  81 144]]\n",
      "El número de elementos impares es:  6\n"
     ]
    }
   ],
   "source": [
    "f1=[1,2,3,4]\n",
    "M=np.array([f1,[3*k for k in f1],[(3*k)**2 for k in f1]])\n",
    "print(M)\n",
    "print('El número de elementos impares es: ',M[M%2!=0].size)"
   ]
  },
  {
   "cell_type": "markdown",
   "id": "3f3bdd86",
   "metadata": {},
   "source": [
    "## ¿Qué son los axis (ejes) en un array?\n",
    "\n",
    "<img src='https://predictivehacks.com/wp-content/uploads/2020/08/numpy_arrays-1024x572.png'></img>"
   ]
  },
  {
   "cell_type": "code",
   "execution_count": 9,
   "id": "6a1894f2",
   "metadata": {},
   "outputs": [
    {
     "name": "stdout",
     "output_type": "stream",
     "text": [
      "[ 7  2  9 10]\n",
      "--------------------\n",
      "[[5.2 3.  4.5]\n",
      " [9.1 0.1 0.3]]\n"
     ]
    }
   ],
   "source": [
    "A=np.array([7,2,9,10])\n",
    "print(A)\n",
    "print('--------------------')\n",
    "B=np.array([[5.2,3.0,4.5],[9.1,0.1,0.3]])\n",
    "print(B)"
   ]
  },
  {
   "cell_type": "markdown",
   "id": "ed69dc9b",
   "metadata": {},
   "source": [
    "## Eliminar y añadir elementos"
   ]
  },
  {
   "cell_type": "code",
   "execution_count": 10,
   "id": "6698026e",
   "metadata": {},
   "outputs": [
    {
     "name": "stdout",
     "output_type": "stream",
     "text": [
      "[ 7  9 10]\n"
     ]
    }
   ],
   "source": [
    "C=np.delete(A,1)\n",
    "print(C)"
   ]
  },
  {
   "cell_type": "code",
   "execution_count": 11,
   "id": "2d9a7c0e",
   "metadata": {},
   "outputs": [
    {
     "name": "stdout",
     "output_type": "stream",
     "text": [
      "[[3.  4.5]\n",
      " [0.1 0.3]]\n"
     ]
    }
   ],
   "source": [
    "D=np.delete(B,0,axis=1)\n",
    "print(D)"
   ]
  },
  {
   "cell_type": "code",
   "execution_count": 12,
   "id": "253fe9e5",
   "metadata": {},
   "outputs": [
    {
     "name": "stdout",
     "output_type": "stream",
     "text": [
      "[[5.2 3.  4.5 6. ]\n",
      " [9.1 0.1 0.3 7. ]]\n"
     ]
    }
   ],
   "source": [
    "E=np.append(B,[[6],[7]],axis=1)\n",
    "print(E)"
   ]
  },
  {
   "cell_type": "markdown",
   "id": "1ea2966e",
   "metadata": {},
   "source": [
    "## Operaciones con Arrays\n",
    "### Cambiando la forma de un array"
   ]
  },
  {
   "cell_type": "code",
   "execution_count": 13,
   "id": "4d1aa74e",
   "metadata": {},
   "outputs": [],
   "source": [
    "A=np.linspace(1,36,36)\n",
    "B=A.reshape(6,6)"
   ]
  },
  {
   "cell_type": "markdown",
   "id": "86a3112f",
   "metadata": {},
   "source": [
    "### suma, resta, multiplicación y división"
   ]
  },
  {
   "cell_type": "code",
   "execution_count": 14,
   "id": "d5799ad5",
   "metadata": {},
   "outputs": [
    {
     "data": {
      "text/plain": [
       "array([0.5       , 0.42857143, 0.66666667])"
      ]
     },
     "execution_count": 14,
     "metadata": {},
     "output_type": "execute_result"
    }
   ],
   "source": [
    "a=np.array([2,3,6])\n",
    "b=np.array([4,7,9])\n",
    "a+b\n",
    "np.add(a,b)\n",
    "a-b\n",
    "np.subtract(a,b)\n",
    "a*b\n",
    "np.multiply(a,b)\n",
    "a/b\n",
    "np.divide(a,b)"
   ]
  },
  {
   "cell_type": "markdown",
   "id": "6026a4c0",
   "metadata": {},
   "source": [
    "### Operaciones matemáticas sobre los elementos de un array"
   ]
  },
  {
   "cell_type": "code",
   "execution_count": 31,
   "id": "f456d9e3",
   "metadata": {},
   "outputs": [
    {
     "data": {
      "text/plain": [
       "array([ 1.55740772, -2.18503986, -0.14254654,  1.15782128])"
      ]
     },
     "execution_count": 31,
     "metadata": {},
     "output_type": "execute_result"
    }
   ],
   "source": [
    "M=np.array([1,2,3,4])\n",
    "np.power(M,3)\n",
    "np.log(M)\n",
    "np.sqrt(M)\n",
    "np.sin(M)\n",
    "np.cos(M)\n",
    "np.tan(M)"
   ]
  },
  {
   "cell_type": "markdown",
   "id": "e17790eb",
   "metadata": {},
   "source": [
    "### Operaciones estadísticas con arrays"
   ]
  },
  {
   "cell_type": "code",
   "execution_count": 32,
   "id": "02a19b73",
   "metadata": {},
   "outputs": [
    {
     "data": {
      "text/plain": [
       "array([0.76612731, 0.15007529, 0.30609982, 0.95766819, 0.30372919])"
      ]
     },
     "execution_count": 32,
     "metadata": {},
     "output_type": "execute_result"
    }
   ],
   "source": [
    "r=np.random.random([5])\n",
    "r"
   ]
  },
  {
   "cell_type": "code",
   "execution_count": 37,
   "id": "a60841b2",
   "metadata": {},
   "outputs": [
    {
     "data": {
      "text/plain": [
       "0.15007529373303008"
      ]
     },
     "execution_count": 37,
     "metadata": {},
     "output_type": "execute_result"
    }
   ],
   "source": [
    "np.mean(r)\n",
    "np.median(r)\n",
    "np.std(r)\n",
    "np.max(r)\n",
    "np.min(r)"
   ]
  },
  {
   "cell_type": "markdown",
   "id": "c384d008",
   "metadata": {},
   "source": [
    "### Álgebra lineal con Arrays"
   ]
  },
  {
   "cell_type": "code",
   "execution_count": 68,
   "id": "31b06904",
   "metadata": {},
   "outputs": [
    {
     "data": {
      "text/plain": [
       "array([[1, 5, 2],\n",
       "       [2, 4, 5],\n",
       "       [3, 2, 6]])"
      ]
     },
     "execution_count": 68,
     "metadata": {},
     "output_type": "execute_result"
    }
   ],
   "source": [
    "a=np.array([1,2,3])\n",
    "b=np.array([5,4,2])\n",
    "c=np.array([2,5,6])\n",
    "M=np.array([a,b,c])\n",
    "np.transpose(M)"
   ]
  },
  {
   "cell_type": "markdown",
   "id": "2ba4a0bc",
   "metadata": {},
   "source": [
    "Resolver el siguiente sistema lineal:\n",
    "\n",
    "$$\n",
    "\\begin{aligned}\n",
    "x+2y&=3\\\\\n",
    "5x+4y&=4\n",
    "\\end{aligned}\n",
    "$$"
   ]
  },
  {
   "cell_type": "code",
   "execution_count": 69,
   "id": "9c20ad5d",
   "metadata": {},
   "outputs": [
    {
     "data": {
      "text/plain": [
       "array([-0.66666667,  1.83333333])"
      ]
     },
     "execution_count": 69,
     "metadata": {},
     "output_type": "execute_result"
    }
   ],
   "source": [
    "A=np.array([[1,2],[5,4]])\n",
    "b=np.array([3,4])\n",
    "np.linalg.solve(A,b)"
   ]
  },
  {
   "cell_type": "code",
   "execution_count": null,
   "id": "1a77d166",
   "metadata": {},
   "outputs": [],
   "source": []
  }
 ],
 "metadata": {
  "kernelspec": {
   "display_name": "Python 3 (ipykernel)",
   "language": "python",
   "name": "python3"
  },
  "language_info": {
   "codemirror_mode": {
    "name": "ipython",
    "version": 3
   },
   "file_extension": ".py",
   "mimetype": "text/x-python",
   "name": "python",
   "nbconvert_exporter": "python",
   "pygments_lexer": "ipython3",
   "version": "3.10.4"
  }
 },
 "nbformat": 4,
 "nbformat_minor": 5
}
